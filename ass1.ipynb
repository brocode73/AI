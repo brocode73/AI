{
 "cells": [
  {
   "cell_type": "code",
   "execution_count": 2,
   "id": "eec114b6",
   "metadata": {},
   "outputs": [],
   "source": [
    "import numpy as np\n",
    "import math \n",
    "import pandas as pd"
   ]
  },
  {
   "cell_type": "code",
   "execution_count": 3,
   "id": "5d2851cb",
   "metadata": {},
   "outputs": [
    {
     "name": "stdout",
     "output_type": "stream",
     "text": [
      "     Outlook Temperature Humidity    Wind Played football(Yes/No)\n",
      "0      Sunny         Hot     High    Weak                      No\n",
      "1      Sunny         Hot     High  Strong                      No\n",
      "2   Overcast         Hot     High    Weak                     Yes\n",
      "3       Rain        Mild     High    Weak                     Yes\n",
      "4       Rain        Cool   Normal    Weak                     Yes\n",
      "5       Rain        Cool   Normal  Strong                      No\n",
      "6   Overcast        Cool   Normal  Strong                     Yes\n",
      "7      Sunny        Mild     High    Weak                      No\n",
      "8      Sunny        Cool   Normal    Weak                     Yes\n",
      "9       Rain        Mild   Normal    Weak                     Yes\n",
      "10     Sunny        Mild   Normal  Strong                     Yes\n",
      "11  Overcast        Mild     High  Strong                     Yes\n",
      "12  Overcast         Hot   Normal    Weak                     Yes\n",
      "13      Rain        Mild     High  Strong                      No\n"
     ]
    }
   ],
   "source": [
    "df=pd.read_csv('outlook.csv')\n",
    "print(df)\n"
   ]
  },
  {
   "cell_type": "code",
   "execution_count": 4,
   "id": "8984d581",
   "metadata": {},
   "outputs": [],
   "source": [
    "outlook=df['Outlook'].tolist()\n",
    "temp=df['Temperature'].tolist()"
   ]
  },
  {
   "cell_type": "code",
   "execution_count": 5,
   "id": "a4b995d1",
   "metadata": {},
   "outputs": [],
   "source": [
    "humidity=df['Humidity'].tolist()\n",
    "wind=df['Wind'].tolist()\n",
    "play=df['Played football(Yes/No)'].tolist()\n"
   ]
  },
  {
   "cell_type": "code",
   "execution_count": 6,
   "id": "117bfc16",
   "metadata": {},
   "outputs": [],
   "source": [
    "totoutlookraws=len(outlook)\n"
   ]
  },
  {
   "cell_type": "code",
   "execution_count": 7,
   "id": "5413ff6c",
   "metadata": {},
   "outputs": [],
   "source": [
    "totyes = totno = 0\n"
   ]
  },
  {
   "cell_type": "code",
   "execution_count": 8,
   "id": "dbfb615c",
   "metadata": {},
   "outputs": [
    {
     "name": "stdout",
     "output_type": "stream",
     "text": [
      "\n",
      "yes is:\n",
      " 9\n",
      "\n",
      "No is:\n",
      " 5\n"
     ]
    }
   ],
   "source": [
    "for i in play:\n",
    "    if i == 'Yes':\n",
    "        totyes += 1\n",
    "    elif i == 'No':\n",
    "        totno += 1\n",
    "print(\"\\nyes is:\\n\",totyes)\n",
    "print(\"\\nNo is:\\n\",totno)\n"
   ]
  },
  {
   "cell_type": "code",
   "execution_count": 9,
   "id": "21e529c7",
   "metadata": {},
   "outputs": [
    {
     "name": "stdout",
     "output_type": "stream",
     "text": [
      "\n",
      "Total yes and no count is:\n",
      " 14\n"
     ]
    }
   ],
   "source": [
    "totyesno=totyes+totno\n",
    "print(\"\\nTotal yes and no count is:\\n\",totyesno)\n"
   ]
  },
  {
   "cell_type": "code",
   "execution_count": 10,
   "id": "9a4e16f8",
   "metadata": {},
   "outputs": [
    {
     "name": "stdout",
     "output_type": "stream",
     "text": [
      "\n",
      "Entropy:\n",
      " 0.9402859586706311\n"
     ]
    }
   ],
   "source": [
    "entropy=-((totyes/totyesno)*math.log2(totyes/totyesno))-((totno/totyesno)*math.log2(totno/totyesno))\n",
    "print(\"\\nEntropy:\\n\",entropy)"
   ]
  },
  {
   "cell_type": "code",
   "execution_count": 11,
   "id": "9f8ad32b",
   "metadata": {},
   "outputs": [],
   "source": [
    "sunnyyes = sunnyno = overyes = overno = rainyes = rainno = 0"
   ]
  },
  {
   "cell_type": "code",
   "execution_count": 12,
   "id": "2f022cc6",
   "metadata": {},
   "outputs": [
    {
     "name": "stdout",
     "output_type": "stream",
     "text": [
      "\n",
      "sunny yes:\t 2 \n",
      "sunny no:\t 3 \n",
      "overcast yes:\t 4 \n",
      "overcast no:\t 0 \n",
      "rain yes:\t 3 \n",
      "rain no:\t 2\n",
      "\n",
      "Total sunny:\t 5 \n",
      "Total overcast:\t 4 \n",
      "Total rain:\t 5\n"
     ]
    }
   ],
   "source": [
    "for i,j in zip(outlook,play):\n",
    "     if i==\"Sunny\" and j==\"Yes\":\n",
    "         sunnyyes += 1\n",
    "     elif i==\"Sunny\" and j==\"No\":\n",
    "         sunnyno += 1\n",
    "     elif i==\"Overcast\" and j==\"Yes\":\n",
    "         overyes += 1\n",
    "     elif i==\"Overcast\" and j==\"No\":\n",
    "         overno += 1\n",
    "     elif i==\"Rain\" and j==\"Yes\":\n",
    "         rainyes += 1\n",
    "     elif i==\"Rain\" and j==\"No\":\n",
    "         rainno += 1\n",
    "print(\"\\nsunny yes:\\t\",sunnyyes,\"\\nsunny no:\\t\",sunnyno,\"\\novercast yes:\\t\",overyes,\"\\novercast no:\\t\",overno,\"\\nrain yes:\\t\",rainyes,\"\\nrain no:\\t\",rainno)\n",
    "totsunny = sunnyyes + sunnyno\n",
    "totovercast = overyes + overno\n",
    "totrain = rainyes + rainno \n",
    "print(\"\\nTotal sunny:\\t\",totsunny,\"\\nTotal overcast:\\t\",totovercast,\"\\nTotal rain:\\t\",totrain)"
   ]
  },
  {
   "cell_type": "code",
   "execution_count": 13,
   "id": "eb6be1c0",
   "metadata": {},
   "outputs": [],
   "source": [
    "if totsunny == sunnyyes or totsunny == sunnyno:\n",
    "    sunnyentropy = 0\n",
    "else:\n",
    "    sunnyentropy = -((sunnyyes/totsunny)*math.log2(sunnyyes/totsunny))-((sunnyno/totsunny)*math.log2(sunnyno/totsunny))"
   ]
  },
  {
   "cell_type": "code",
   "execution_count": 14,
   "id": "114fd226",
   "metadata": {},
   "outputs": [
    {
     "name": "stdout",
     "output_type": "stream",
     "text": [
      "\n",
      "Sunny Entropy:\n",
      " 0.9709505944546686\n"
     ]
    }
   ],
   "source": [
    "print(\"\\nSunny Entropy:\\n\",sunnyentropy)\n"
   ]
  },
  {
   "cell_type": "code",
   "execution_count": 15,
   "id": "a4223a10",
   "metadata": {},
   "outputs": [
    {
     "name": "stdout",
     "output_type": "stream",
     "text": [
      "\n",
      "Overcast Entropy:\n",
      " 0\n"
     ]
    }
   ],
   "source": [
    "if totovercast == overyes or totovercast == overno:\n",
    "    overcastentropy = 0\n",
    "else:\n",
    "    overcastentropy = -((overyes/totovercast)*math.log2(overyes/totovercast))-((overno/totovercast)*math.log2(overno/totovercast))\n",
    "print(\"\\nOvercast Entropy:\\n\",overcastentropy)\n"
   ]
  },
  {
   "cell_type": "code",
   "execution_count": 16,
   "id": "0f253c12",
   "metadata": {},
   "outputs": [
    {
     "name": "stdout",
     "output_type": "stream",
     "text": [
      "\n",
      "Rain Entropy:\n",
      " 0.9709505944546686\n"
     ]
    }
   ],
   "source": [
    "if totrain == rainyes or totrain == rainno:\n",
    "    rainentropy = 0\n",
    "else:\n",
    "    rainentropy = -((rainyes/totrain)*math.log2(rainyes/totrain))-((rainno/totrain)*math.log2(rainno/totrain))\n",
    "print(\"\\nRain Entropy:\\n\",rainentropy)\n"
   ]
  },
  {
   "cell_type": "code",
   "execution_count": 17,
   "id": "715845b6",
   "metadata": {},
   "outputs": [
    {
     "name": "stdout",
     "output_type": "stream",
     "text": [
      "\n",
      "Outlook Gain is:\t 0.24674981977443933\n"
     ]
    }
   ],
   "source": [
    "gainoutlook=entropy-(totsunny/totyesno)*sunnyentropy-(totovercast/totyesno)*overcastentropy-(totrain/totyesno)*rainentropy\n",
    "print(\"\\nOutlook Gain is:\\t\",gainoutlook)\n"
   ]
  },
  {
   "cell_type": "code",
   "execution_count": 18,
   "id": "b9d51331",
   "metadata": {},
   "outputs": [
    {
     "name": "stdout",
     "output_type": "stream",
     "text": [
      "\n",
      "---------------------Temperature-----------------------\n",
      "\n"
     ]
    }
   ],
   "source": [
    "print(\"\\n---------------------Temperature-----------------------\\n\")\n",
    "#temperature\n",
    "tottemprows=len(temp)\n"
   ]
  },
  {
   "cell_type": "code",
   "execution_count": 19,
   "id": "0e07a281",
   "metadata": {},
   "outputs": [],
   "source": [
    "hotyes = hotno = mildyes = mildno = coolyes = coolno = 0"
   ]
  },
  {
   "cell_type": "code",
   "execution_count": 20,
   "id": "05e50450",
   "metadata": {},
   "outputs": [
    {
     "name": "stdout",
     "output_type": "stream",
     "text": [
      "\n",
      "Hot yes:\t 2 \n",
      "Hot no:\t 2 \n",
      "Mild yes:\t 4 \n",
      "Mild no:\t 2 \n",
      "Cool yes:\t 3 \n",
      "Cool no:\t 1\n"
     ]
    }
   ],
   "source": [
    "for i,j in zip(temp,play):\n",
    "     if i==\"Hot\" and j==\"Yes\":\n",
    "         hotyes += 1\n",
    "     elif i==\"Hot\" and j==\"No\":\n",
    "         hotno += 1\n",
    "     elif i==\"Mild\" and j==\"Yes\":\n",
    "         mildyes += 1\n",
    "     elif i==\"Mild\" and j==\"No\":\n",
    "         mildno += 1\n",
    "     elif i==\"Cool\" and j==\"Yes\":\n",
    "         coolyes += 1\n",
    "     elif i==\"Cool\" and j==\"No\":\n",
    "         coolno += 1\n",
    "print(\"\\nHot yes:\\t\",hotyes,\"\\nHot no:\\t\",hotno,\"\\nMild yes:\\t\",mildyes,\"\\nMild no:\\t\",mildno,\"\\nCool yes:\\t\",coolyes,\"\\nCool no:\\t\",coolno)\n"
   ]
  },
  {
   "cell_type": "code",
   "execution_count": 21,
   "id": "1510899c",
   "metadata": {},
   "outputs": [
    {
     "name": "stdout",
     "output_type": "stream",
     "text": [
      "\n",
      "Total hot:\t 4 \n",
      "Total cool:\t 4 \n",
      "Total mild:\t 6\n"
     ]
    }
   ],
   "source": [
    "tothot = hotyes + hotno\n",
    "totcool = coolyes + coolno\n",
    "totmild = mildyes + mildno \n",
    "print(\"\\nTotal hot:\\t\",tothot,\"\\nTotal cool:\\t\",totcool,\"\\nTotal mild:\\t\",totmild)\n"
   ]
  },
  {
   "cell_type": "code",
   "execution_count": 22,
   "id": "20d08b05",
   "metadata": {},
   "outputs": [],
   "source": [
    "if tothot == hotyes or tothot == hotno:\n",
    "    hotentropy = 0\n",
    "else:\n",
    "    hotentropy = -((hotyes/tothot)*math.log2(hotyes/tothot))-((hotno/tothot)*math.log2(hotno/tothot))\n"
   ]
  },
  {
   "cell_type": "code",
   "execution_count": 23,
   "id": "b3fbc79e",
   "metadata": {},
   "outputs": [
    {
     "name": "stdout",
     "output_type": "stream",
     "text": [
      "\n",
      "Hot Entropy:\n",
      " 1.0\n"
     ]
    }
   ],
   "source": [
    "print(\"\\nHot Entropy:\\n\",hotentropy)\n"
   ]
  },
  {
   "cell_type": "code",
   "execution_count": 24,
   "id": "8d2982db",
   "metadata": {},
   "outputs": [
    {
     "name": "stdout",
     "output_type": "stream",
     "text": [
      "\n",
      "Cool Entropy:\n",
      " 0.8112781244591328\n"
     ]
    }
   ],
   "source": [
    "if totcool == coolyes or totcool == coolno:\n",
    "    coolentropy = 0\n",
    "else:\n",
    "    coolentropy = -((coolyes/totcool)*math.log2(coolyes/totcool))-((coolno/totcool)*math.log2(coolno/totcool))\n",
    "print(\"\\nCool Entropy:\\n\",coolentropy)"
   ]
  },
  {
   "cell_type": "code",
   "execution_count": 25,
   "id": "a58fd5df",
   "metadata": {},
   "outputs": [
    {
     "name": "stdout",
     "output_type": "stream",
     "text": [
      "\n",
      "Mild Entropy:\n",
      " 0.9182958340544896\n"
     ]
    }
   ],
   "source": [
    "if totmild == mildyes or totmild == mildno:\n",
    "    mildentropy = 0\n",
    "else:\n",
    "    mildentropy = -((mildyes/totmild)*math.log2(mildyes/totmild))-((mildno/totmild)*math.log2(mildno/totmild))\n",
    "print(\"\\nMild Entropy:\\n\",mildentropy)\n"
   ]
  },
  {
   "cell_type": "code",
   "execution_count": 26,
   "id": "fc35cb34",
   "metadata": {},
   "outputs": [
    {
     "name": "stdout",
     "output_type": "stream",
     "text": [
      "\n",
      "Temperature Gain is:\t 0.02922256565895487\n"
     ]
    }
   ],
   "source": [
    "gaintemp=entropy-(tothot/totyesno)*hotentropy-(totcool/totyesno)*coolentropy-(totmild/totyesno)*mildentropy\n",
    "print(\"\\nTemperature Gain is:\\t\",gaintemp)"
   ]
  },
  {
   "cell_type": "code",
   "execution_count": 27,
   "id": "bec0ab7e",
   "metadata": {},
   "outputs": [
    {
     "name": "stdout",
     "output_type": "stream",
     "text": [
      "\n",
      "---------------------Humidity-----------------------\n",
      "\n"
     ]
    }
   ],
   "source": [
    "print(\"\\n---------------------Humidity-----------------------\\n\")\n",
    "#humidity\n",
    "highyes = highno = normalyes = normalno = 0\n"
   ]
  },
  {
   "cell_type": "code",
   "execution_count": 28,
   "id": "c6a9b9ee",
   "metadata": {},
   "outputs": [
    {
     "name": "stdout",
     "output_type": "stream",
     "text": [
      "\n",
      "High yes:\t 3 \n",
      "High no:\t 4 \n",
      "Normal yes:\t 6 \n",
      "Normal no:\t 1\n"
     ]
    }
   ],
   "source": [
    "for i,j in zip(humidity,play):\n",
    "     if i==\"High\" and j==\"Yes\":\n",
    "         highyes += 1\n",
    "     elif i==\"High\" and j==\"No\":\n",
    "         highno += 1\n",
    "     elif i==\"Normal\" and j==\"Yes\":\n",
    "         normalyes += 1\n",
    "     elif i==\"Normal\" and j==\"No\":\n",
    "         normalno += 1\n",
    "print(\"\\nHigh yes:\\t\",highyes,\"\\nHigh no:\\t\",highno,\"\\nNormal yes:\\t\",normalyes,\"\\nNormal no:\\t\",normalno)\n"
   ]
  },
  {
   "cell_type": "code",
   "execution_count": 29,
   "id": "ab3aca4a",
   "metadata": {},
   "outputs": [
    {
     "name": "stdout",
     "output_type": "stream",
     "text": [
      "\n",
      "Total high:\t 7 \n",
      "Total normal:\t 7\n"
     ]
    }
   ],
   "source": [
    "tothigh = highyes + highno\n",
    "totnormal = normalyes + normalno\n",
    "print(\"\\nTotal high:\\t\",tothigh,\"\\nTotal normal:\\t\",totnormal)"
   ]
  },
  {
   "cell_type": "code",
   "execution_count": 30,
   "id": "a2cdd0fc",
   "metadata": {},
   "outputs": [],
   "source": [
    "if tothigh == highyes or tothigh == highno:\n",
    "    highentropy = 0\n",
    "else:\n",
    "    highentropy = -((highyes/tothigh)*math.log2(highyes/tothigh))-((highno/tothigh)*math.log2(highno/tothigh))"
   ]
  },
  {
   "cell_type": "code",
   "execution_count": 31,
   "id": "75c9ec52",
   "metadata": {},
   "outputs": [
    {
     "name": "stdout",
     "output_type": "stream",
     "text": [
      "\n",
      "Hot Entropy:\n",
      " 0.9852281360342515\n"
     ]
    }
   ],
   "source": [
    "print(\"\\nHot Entropy:\\n\",highentropy)\n"
   ]
  },
  {
   "cell_type": "code",
   "execution_count": 32,
   "id": "499953ed",
   "metadata": {},
   "outputs": [
    {
     "name": "stdout",
     "output_type": "stream",
     "text": [
      "\n",
      "Cool Entropy:\n",
      " 0.5916727785823275\n"
     ]
    }
   ],
   "source": [
    "if totnormal == normalyes or totnormal == normalno:\n",
    "    normalentropy = 0\n",
    "else:\n",
    "    normalentropy = -((normalyes/totnormal)*math.log2(normalyes/totnormal))-((normalno/totnormal)*math.log2(normalno/totnormal))\n",
    "print(\"\\nCool Entropy:\\n\",normalentropy)"
   ]
  },
  {
   "cell_type": "code",
   "execution_count": 33,
   "id": "d4b7f72f",
   "metadata": {},
   "outputs": [
    {
     "name": "stdout",
     "output_type": "stream",
     "text": [
      "\n",
      "Humidity Gain is:\t 0.15183550136234164\n"
     ]
    }
   ],
   "source": [
    "gainhumid=entropy-(tothigh/totyesno)*highentropy-(totnormal/totyesno)*normalentropy\n",
    "print(\"\\nHumidity Gain is:\\t\",gainhumid)\n"
   ]
  },
  {
   "cell_type": "code",
   "execution_count": 34,
   "id": "4c23a9d5",
   "metadata": {},
   "outputs": [
    {
     "name": "stdout",
     "output_type": "stream",
     "text": [
      "\n",
      "---------------------Wind-----------------------\n",
      "\n"
     ]
    }
   ],
   "source": [
    "print(\"\\n---------------------Wind-----------------------\\n\")\n",
    "#humidity\n",
    "weakyes = weakno = strongyes = strongno = 0"
   ]
  },
  {
   "cell_type": "code",
   "execution_count": 35,
   "id": "b62fb5e9",
   "metadata": {},
   "outputs": [
    {
     "name": "stdout",
     "output_type": "stream",
     "text": [
      "\n",
      "Strong yes:\t 3 \n",
      "Strong no:\t 3 \n",
      "Weak yes:\t 6 \n",
      "Weak no:\t 2\n"
     ]
    }
   ],
   "source": [
    "for i,j in zip(wind,play):\n",
    "     if i==\"Weak\" and j==\"Yes\":\n",
    "         weakyes += 1\n",
    "     elif i==\"Weak\" and j==\"No\":\n",
    "         weakno += 1\n",
    "     elif i==\"Strong\" and j==\"Yes\":\n",
    "         strongyes += 1\n",
    "     elif i==\"Strong\" and j==\"No\":\n",
    "         strongno += 1\n",
    "print(\"\\nStrong yes:\\t\",strongyes,\"\\nStrong no:\\t\",strongno,\"\\nWeak yes:\\t\",weakyes,\"\\nWeak no:\\t\",weakno)"
   ]
  },
  {
   "cell_type": "code",
   "execution_count": 36,
   "id": "28f05fbf",
   "metadata": {},
   "outputs": [
    {
     "name": "stdout",
     "output_type": "stream",
     "text": [
      "\n",
      "Total high:\t 6 \n",
      "Total normal:\t 8\n"
     ]
    }
   ],
   "source": [
    "totstrong = strongyes + strongno\n",
    "totweak = weakyes +  weakno\n",
    "print(\"\\nTotal high:\\t\",totstrong,\"\\nTotal normal:\\t\",totweak)\n"
   ]
  },
  {
   "cell_type": "code",
   "execution_count": 37,
   "id": "224eb727",
   "metadata": {},
   "outputs": [],
   "source": [
    "if totstrong == strongyes or totstrong == strongno:\n",
    "    strongentropy = 0\n",
    "else:\n",
    "    strongentropy = -((strongyes/totstrong)*math.log2(strongyes/totstrong))-((strongno/totstrong)*math.log2(strongno/totstrong))"
   ]
  },
  {
   "cell_type": "code",
   "execution_count": 39,
   "id": "674e9ea5",
   "metadata": {},
   "outputs": [
    {
     "name": "stdout",
     "output_type": "stream",
     "text": [
      "\n",
      "High Entropy:\n",
      " 1.0\n"
     ]
    }
   ],
   "source": [
    "print(\"\\nStrong Entropy:\\n\",strongentropy)\n"
   ]
  },
  {
   "cell_type": "code",
   "execution_count": 41,
   "id": "2da37517",
   "metadata": {},
   "outputs": [
    {
     "name": "stdout",
     "output_type": "stream",
     "text": [
      "\n",
      "Weak Entropy:\n",
      " 0.8112781244591328\n"
     ]
    }
   ],
   "source": [
    "if totweak == weakyes or totweak  == weakno:\n",
    "    weakentropy = 0\n",
    "else:\n",
    "    weakentropy = -((weakyes/totweak)*math.log2(weakyes/totweak))-((weakno/totweak)*math.log2(weakno/totweak))\n",
    "print(\"\\nWeak Entropy:\\n\",weakentropy)"
   ]
  },
  {
   "cell_type": "code",
   "execution_count": 42,
   "id": "c02e275b",
   "metadata": {},
   "outputs": [
    {
     "name": "stdout",
     "output_type": "stream",
     "text": [
      "\n",
      "Wind Gain is:\t 0.04812703040826949\n"
     ]
    }
   ],
   "source": [
    "gainhumid=entropy-(totstrong/totyesno)*strongentropy-(totweak/totyesno)*weakentropy\n",
    "print(\"\\nWind Gain is:\\t\",gainhumid)\n"
   ]
  },
  {
   "cell_type": "code",
   "execution_count": null,
   "id": "c97eba96",
   "metadata": {},
   "outputs": [],
   "source": [
    " "
   ]
  }
 ],
 "metadata": {
  "kernelspec": {
   "display_name": "Python 3 (ipykernel)",
   "language": "python",
   "name": "python3"
  },
  "language_info": {
   "codemirror_mode": {
    "name": "ipython",
    "version": 3
   },
   "file_extension": ".py",
   "mimetype": "text/x-python",
   "name": "python",
   "nbconvert_exporter": "python",
   "pygments_lexer": "ipython3",
   "version": "3.8.10"
  }
 },
 "nbformat": 4,
 "nbformat_minor": 5
}
